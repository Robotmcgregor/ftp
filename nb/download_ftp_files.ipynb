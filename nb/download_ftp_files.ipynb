{
 "cells": [
  {
   "cell_type": "code",
   "execution_count": 1,
   "metadata": {},
   "outputs": [],
   "source": [
    "import os, sys, os.path\n",
    "from ftplib import FTP"
   ]
  },
  {
   "cell_type": "code",
   "execution_count": 2,
   "metadata": {},
   "outputs": [
    {
     "data": {
      "text/plain": [
       "'220 Wing FTP Server ready...'"
      ]
     },
     "execution_count": 2,
     "metadata": {},
     "output_type": "execute_result"
    }
   ],
   "source": [
    "# log into the dlrm ftp server\n",
    "ftp = FTP('ftp-dlrm.nt.gov.au')\n",
    "ftp.login(user='remote', passwd='sensing')\n",
    "ftp.getwelcome()"
   ]
  },
  {
   "cell_type": "code",
   "execution_count": null,
   "metadata": {},
   "outputs": [],
   "source": []
  },
  {
   "cell_type": "code",
   "execution_count": 3,
   "metadata": {},
   "outputs": [
    {
     "name": "stdout",
     "output_type": "stream",
     "text": [
      "['cvmsre_t52lgh_m201901201912_abam2.img', 'cvmsre_t52lgh_m201901201912_abbm2.img', 'cvmsre_t52lgh_m201905201909_abam2.img', 'cvmsre_t52lgh_m201905201909_abbm2.img', 'cvmsre_t52lhh_m201901201912_abam2.img', 'cvmsre_t52lhh_m201901201912_abbm2.img', 'cvmsre_t52lhh_m201905201909_abam2.img', 'cvmsre_t52lhh_m201905201909_abbm2.img', 'cvmsre_t53kka_m201901201912_abam3.img', 'cvmsre_t53kka_m201901201912_abbm3.img', 'cvmsre_t53kka_m201905201909_abbm3.img', 'l8olre_p102r074_20211006_dilm3_zstdmask.img', 'l8olre_p102r074_20211022_dilm3_zstdmask.img', 'l8olre_p102r074_20211107_dilm3_zstdmask.img', 'l8olre_p102r074_20211209_dilm3_zstdmask.img', 'l8olre_p102r074_20220110_dilm3_zstdmask.img', 'l8olre_p102r074_20220211_dilm3_zstdmask.img', 'l8olre_p102r074_20220227_dilm3_zstdmask.img', 'l8olre_p102r074_20220315_dilm3_zstdmask.img', 'l8olre_p102r074_20220331_dilm3_zstdmask.img', 'l8olre_p102r074_20220416_dilm3_zstdmask.img', 'l8olre_p102r074_20220502_dilm3_zstdmask.img', 'l8olre_p102r074_20220518_dilm3_zstdmask.img', 'l8olre_p102r074_20220603_dilm3_zstdmask.img', 'l8olre_p102r074_20220705_dilm3_zstdmask.img', 'l8olre_p104r072_20220601_dbgm3_zstdmask.img', 'l9olre_p102r074_20211217_dilm3_zstdmask.img', 'l9olre_p102r074_20220102_dilm3_zstdmask.img', 'l9olre_p102r074_20220118_dilm3_zstdmask.img', 'l9olre_p102r074_20220323_dilm3_zstdmask.img', 'l9olre_p102r074_20220510_dilm3_zstdmask.img', 'l9olre_p102r074_20220526_dilm3_zstdmask.img', 'l9olre_p102r074_20220611_dilm3_zstdmask.img', 'l9olre_p102r074_20220713_dilm3_zstdmask.img', 'l9olre_p104r072_20211119_dbgm3_zstdmask.img', 'l9olre_p104r072_20220201_dbgm3_zstdmask.img', 'l9olre_p104r072_20220217_dbgm3_zstdmask.img', 'l9olre_p104r072_20220305_dbgm3_zstdmask.img', 'l9olre_p104r072_20220321_dbgm3_zstdmask.img', 'l9olre_p104r072_20220406_dbgm3_zstdmask.img', 'l9olre_p104r072_20220508_dbgm3_zstdmask.img', 'l9olre_p104r072_20220524_dbgm3_zstdmask.img', 'l9olre_p104r072_20220711_dbgm3_zstdmask.img']\n"
     ]
    }
   ],
   "source": [
    "# see whats files are in the ftp server\n",
    "filenames = ftp.nlst()\n",
    "print (filenames)"
   ]
  },
  {
   "cell_type": "code",
   "execution_count": null,
   "metadata": {},
   "outputs": [],
   "source": [
    "# you can make your own list of files if requried - the code block below will download all files in the ftp server by default\n",
    "my_file_list =['cemsre_t53lld_20151020_abbm3.img', 'cemsre_t53lld_20161004_abbm3.img', 'cemsre_t53lld_20161024_abbm3.img', 'cemsre_t53lld_20191019_abbm3.img', 'cemsre_t53lld_20201013_abbm3.img', 'l5tmre_p104r070_20061027_dbgm3.img', 'l8olre_p104r070_20151004_dbgm3.img', 'l8olre_p104r070_20161006_dbgm3.img', 'l8olre_p104r070_20191031_dbgm3.img', 'l8olre_p104r070_20201001_dbgm3.img']\n",
    "filenames = my_file_list"
   ]
  },
  {
   "cell_type": "code",
   "execution_count": null,
   "metadata": {},
   "outputs": [],
   "source": [
    "print (filenames)"
   ]
  },
  {
   "cell_type": "code",
   "execution_count": 4,
   "metadata": {
    "scrolled": true
   },
   "outputs": [
    {
     "name": "stdout",
     "output_type": "stream",
     "text": [
      "['cvmsre_t52lgh_m201901201912_abam2.img', 'cvmsre_t52lgh_m201901201912_abbm2.img', 'cvmsre_t52lgh_m201905201909_abam2.img', 'cvmsre_t52lgh_m201905201909_abbm2.img', 'cvmsre_t52lhh_m201901201912_abam2.img', 'cvmsre_t52lhh_m201901201912_abbm2.img', 'cvmsre_t52lhh_m201905201909_abam2.img', 'cvmsre_t52lhh_m201905201909_abbm2.img', 'cvmsre_t53kka_m201901201912_abam3.img', 'cvmsre_t53kka_m201901201912_abbm3.img', 'cvmsre_t53kka_m201905201909_abbm3.img', 'l8olre_p102r074_20211006_dilm3_zstdmask.img', 'l8olre_p102r074_20211022_dilm3_zstdmask.img', 'l8olre_p102r074_20211107_dilm3_zstdmask.img', 'l8olre_p102r074_20211209_dilm3_zstdmask.img', 'l8olre_p102r074_20220110_dilm3_zstdmask.img', 'l8olre_p102r074_20220211_dilm3_zstdmask.img', 'l8olre_p102r074_20220227_dilm3_zstdmask.img', 'l8olre_p102r074_20220315_dilm3_zstdmask.img', 'l8olre_p102r074_20220331_dilm3_zstdmask.img', 'l8olre_p102r074_20220416_dilm3_zstdmask.img', 'l8olre_p102r074_20220502_dilm3_zstdmask.img', 'l8olre_p102r074_20220518_dilm3_zstdmask.img', 'l8olre_p102r074_20220603_dilm3_zstdmask.img', 'l8olre_p102r074_20220705_dilm3_zstdmask.img', 'l8olre_p104r072_20220601_dbgm3_zstdmask.img', 'l9olre_p102r074_20211217_dilm3_zstdmask.img', 'l9olre_p102r074_20220102_dilm3_zstdmask.img', 'l9olre_p102r074_20220118_dilm3_zstdmask.img', 'l9olre_p102r074_20220323_dilm3_zstdmask.img', 'l9olre_p102r074_20220510_dilm3_zstdmask.img', 'l9olre_p102r074_20220526_dilm3_zstdmask.img', 'l9olre_p102r074_20220611_dilm3_zstdmask.img', 'l9olre_p102r074_20220713_dilm3_zstdmask.img', 'l9olre_p104r072_20211119_dbgm3_zstdmask.img', 'l9olre_p104r072_20220201_dbgm3_zstdmask.img', 'l9olre_p104r072_20220217_dbgm3_zstdmask.img', 'l9olre_p104r072_20220305_dbgm3_zstdmask.img', 'l9olre_p104r072_20220321_dbgm3_zstdmask.img', 'l9olre_p104r072_20220406_dbgm3_zstdmask.img', 'l9olre_p104r072_20220508_dbgm3_zstdmask.img', 'l9olre_p104r072_20220524_dbgm3_zstdmask.img', 'l9olre_p104r072_20220711_dbgm3_zstdmask.img']\n",
      "cvmsre_t52lgh_m201901201912_abam2.img downloaded\n",
      "cvmsre_t52lgh_m201901201912_abbm2.img downloaded\n",
      "cvmsre_t52lgh_m201905201909_abam2.img downloaded\n",
      "cvmsre_t52lgh_m201905201909_abbm2.img downloaded\n",
      "cvmsre_t52lhh_m201901201912_abam2.img downloaded\n",
      "cvmsre_t52lhh_m201901201912_abbm2.img downloaded\n",
      "cvmsre_t52lhh_m201905201909_abam2.img downloaded\n",
      "cvmsre_t52lhh_m201905201909_abbm2.img downloaded\n",
      "cvmsre_t53kka_m201901201912_abam3.img downloaded\n",
      "cvmsre_t53kka_m201901201912_abbm3.img downloaded\n",
      "cvmsre_t53kka_m201905201909_abbm3.img downloaded\n",
      "l8olre_p102r074_20211006_dilm3_zstdmask.img downloaded\n",
      "l8olre_p102r074_20211022_dilm3_zstdmask.img downloaded\n",
      "l8olre_p102r074_20211107_dilm3_zstdmask.img downloaded\n",
      "l8olre_p102r074_20211209_dilm3_zstdmask.img downloaded\n",
      "l8olre_p102r074_20220110_dilm3_zstdmask.img downloaded\n",
      "l8olre_p102r074_20220211_dilm3_zstdmask.img downloaded\n",
      "l8olre_p102r074_20220227_dilm3_zstdmask.img downloaded\n",
      "l8olre_p102r074_20220315_dilm3_zstdmask.img downloaded\n",
      "l8olre_p102r074_20220331_dilm3_zstdmask.img downloaded\n",
      "l8olre_p102r074_20220416_dilm3_zstdmask.img downloaded\n",
      "l8olre_p102r074_20220502_dilm3_zstdmask.img downloaded\n",
      "l8olre_p102r074_20220518_dilm3_zstdmask.img downloaded\n",
      "l8olre_p102r074_20220603_dilm3_zstdmask.img downloaded\n",
      "l8olre_p102r074_20220705_dilm3_zstdmask.img downloaded\n",
      "l8olre_p104r072_20220601_dbgm3_zstdmask.img downloaded\n",
      "l9olre_p102r074_20211217_dilm3_zstdmask.img downloaded\n",
      "l9olre_p102r074_20220102_dilm3_zstdmask.img downloaded\n",
      "l9olre_p102r074_20220118_dilm3_zstdmask.img downloaded\n",
      "l9olre_p102r074_20220323_dilm3_zstdmask.img downloaded\n",
      "l9olre_p102r074_20220510_dilm3_zstdmask.img downloaded\n",
      "l9olre_p102r074_20220526_dilm3_zstdmask.img downloaded\n",
      "l9olre_p102r074_20220611_dilm3_zstdmask.img downloaded\n",
      "l9olre_p102r074_20220713_dilm3_zstdmask.img downloaded\n",
      "l9olre_p104r072_20211119_dbgm3_zstdmask.img downloaded\n",
      "l9olre_p104r072_20220201_dbgm3_zstdmask.img downloaded\n",
      "l9olre_p104r072_20220217_dbgm3_zstdmask.img downloaded\n",
      "l9olre_p104r072_20220305_dbgm3_zstdmask.img downloaded\n",
      "l9olre_p104r072_20220321_dbgm3_zstdmask.img downloaded\n",
      "l9olre_p104r072_20220406_dbgm3_zstdmask.img downloaded\n",
      "l9olre_p104r072_20220508_dbgm3_zstdmask.img downloaded\n",
      "l9olre_p104r072_20220524_dbgm3_zstdmask.img downloaded\n",
      "l9olre_p104r072_20220711_dbgm3_zstdmask.img downloaded\n"
     ]
    },
    {
     "data": {
      "text/plain": [
       "'221 Goodbye.'"
      ]
     },
     "execution_count": 4,
     "metadata": {},
     "output_type": "execute_result"
    }
   ],
   "source": [
    "\"\"\"If using the my file list above comment out the next line below  \"\"\"\n",
    "\n",
    "#filenames = ftp.nlst() # get filenames within the directory\n",
    "\n",
    "print (filenames)\n",
    "\n",
    "for filename in filenames:\n",
    "    # provide the path to the dir you are going to save the files too\n",
    "    local_filename = os.path.join(r'Z:\\Scratch\\Rob\\lsat\\ftp_download', filename)\n",
    "    file = open(local_filename, 'wb')\n",
    "    ftp.retrbinary('RETR '+ filename, file.write)\n",
    "    print(filename + ' downloaded')\n",
    "\n",
    "    file.close()\n",
    "\n",
    "ftp.quit() # This is the “polite” way to close a connection"
   ]
  },
  {
   "cell_type": "code",
   "execution_count": null,
   "metadata": {},
   "outputs": [],
   "source": []
  }
 ],
 "metadata": {
  "kernelspec": {
   "display_name": "Python 3",
   "language": "python",
   "name": "python3"
  },
  "language_info": {
   "codemirror_mode": {
    "name": "ipython",
    "version": 3
   },
   "file_extension": ".py",
   "mimetype": "text/x-python",
   "name": "python",
   "nbconvert_exporter": "python",
   "pygments_lexer": "ipython3",
   "version": "3.7.7"
  }
 },
 "nbformat": 4,
 "nbformat_minor": 2
}
